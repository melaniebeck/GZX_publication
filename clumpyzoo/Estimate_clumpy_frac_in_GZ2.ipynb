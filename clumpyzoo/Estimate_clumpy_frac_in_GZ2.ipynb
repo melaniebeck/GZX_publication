{
 "cells": [
  {
   "cell_type": "code",
   "execution_count": 9,
   "metadata": {
    "collapsed": false
   },
   "outputs": [],
   "source": [
    "from astropy.table import Table, join\n",
    "import matplotlib.pyplot as plt\n",
    "import numpy as np\n",
    "%matplotlib inline"
   ]
  },
  {
   "cell_type": "code",
   "execution_count": 25,
   "metadata": {
    "collapsed": false
   },
   "outputs": [
    {
     "name": "stdout",
     "output_type": "stream",
     "text": [
      "51861\n"
     ]
    }
   ],
   "source": [
    "# Import GZH catalog that Mel G. sent me\n",
    "stripe82 = Table.read('gzh_sdss_intIDs.fits')\n",
    "print len(stripe82)\n",
    "\n",
    "# Import SDSS ancillary data from DR7 used with GZ2 galaxies\n",
    "sdss = Table.read('../gzcodez/catalogs_GZ/zoo2AncillaryInfo.fits')"
   ]
  },
  {
   "cell_type": "markdown",
   "metadata": {},
   "source": [
    "### Match the GZH-stripe82 catalog with SDSS ancillary data"
   ]
  },
  {
   "cell_type": "code",
   "execution_count": 24,
   "metadata": {
    "collapsed": false
   },
   "outputs": [
    {
     "name": "stdout",
     "output_type": "stream",
     "text": [
      "51861\n"
     ]
    }
   ],
   "source": [
    "s82_sdss = join(stripe82, sdss, keys='OBJID')\n",
    "print len(s82_sdss)"
   ]
  },
  {
   "cell_type": "markdown",
   "metadata": {},
   "source": [
    "### Select out low-z and low-smooth galaxies"
   ]
  },
  {
   "cell_type": "code",
   "execution_count": 54,
   "metadata": {
    "collapsed": false
   },
   "outputs": [
    {
     "name": "stdout",
     "output_type": "stream",
     "text": [
      "14313 subjects have no redshift in DR7\n",
      "37548 subjects have spectro-z\n",
      "\n",
      "5543 subjects in low-z & low-smooth sample\n"
     ]
    }
   ],
   "source": [
    "non_nan = s82_sdss[~np.isnan(s82_sdss['REDSHIFT'])]\n",
    "print len(stripe82) - len(non_nan), \"subjects have no redshift in DR7\"\n",
    "print len(non_nan), \"subjects have spectro-z\"\n",
    "print \"\"\n",
    "\n",
    "sub_idx = np.where((non_nan['REDSHIFT']<=0.06) & \n",
    "                   (non_nan['t01_smooth_or_features_a01_smooth_weighted_fraction']<=0.7))\n",
    "subsample = non_nan[sub_idx]\n",
    "print len(subsample), \"subjects in low-z & low-smooth sample\""
   ]
  },
  {
   "cell_type": "markdown",
   "metadata": {},
   "source": [
    "### In the subsample, how many are clumpy?"
   ]
  },
  {
   "cell_type": "code",
   "execution_count": 39,
   "metadata": {
    "collapsed": false
   },
   "outputs": [
    {
     "name": "stdout",
     "output_type": "stream",
     "text": [
      "111 subjects remaining\n",
      "Fraction of clumpy gals:  0.020025257081\n"
     ]
    }
   ],
   "source": [
    "clumpy_idx = np.where((subsample['t01_smooth_or_features_a02_features_or_disk_weighted_fraction'] >= 0.5 ) &\n",
    "                      (subsample['t12_clumpy_a01_yes_weighted_fraction'] >= 0.5) &\n",
    "                      (subsample['t12_clumpy_total_count'] >= 20) )\n",
    "clumpy = subsample[clumpy_idx]\n",
    "print len(clumpy), \"subjects remaining\"\n",
    "print \"Fraction of clumpy gals: \", float(len(clumpy))/float(len(subsample))"
   ]
  },
  {
   "cell_type": "markdown",
   "metadata": {},
   "source": [
    "### If we had redshifts for ALL galaxies, how many more clumpy? "
   ]
  },
  {
   "cell_type": "code",
   "execution_count": 46,
   "metadata": {
    "collapsed": false
   },
   "outputs": [
    {
     "name": "stdout",
     "output_type": "stream",
     "text": [
      "42.24\n"
     ]
    }
   ],
   "source": [
    "# no_z x subsample / total_with_z\n",
    "addl_low_z_low_smooth = 14313*5543/37548\n",
    "\n",
    "addl_clumpy = addl_low_z_low_smooth * 0.02\n",
    "print addl_clumpy"
   ]
  },
  {
   "cell_type": "markdown",
   "metadata": {},
   "source": [
    "### How many clumpy will we find in non-Stripe82 GZ2 galaxies?\n",
    "### (that have spectroscopic z...)"
   ]
  },
  {
   "cell_type": "code",
   "execution_count": 66,
   "metadata": {
    "collapsed": false
   },
   "outputs": [
    {
     "name": "stdout",
     "output_type": "stream",
     "text": [
      "295305\n"
     ]
    }
   ],
   "source": [
    "# Read in GZ2 catalog \n",
    "# (already matched with other catalogs)\n",
    "# Also, coadd-ed Stripe82 subjects have already been excluded\n",
    "gz2 = Table.read('../GZExpress/SpaceWarps/analysis/GZ2ASSETS_NAIR_MORPH_MAIN_SDSS.fits')\n",
    "print len(gz2)"
   ]
  },
  {
   "cell_type": "markdown",
   "metadata": {},
   "source": [
    "### Exclude Stripe82 subjects"
   ]
  },
  {
   "cell_type": "code",
   "execution_count": 68,
   "metadata": {
    "collapsed": false
   },
   "outputs": [
    {
     "name": "stdout",
     "output_type": "stream",
     "text": [
      "273783\n"
     ]
    }
   ],
   "source": [
    "gz2_non_stripe82 = gz2[gz2['stripe82']==0]\n",
    "print len(gz2_non_stripe82)"
   ]
  },
  {
   "cell_type": "code",
   "execution_count": 78,
   "metadata": {
    "collapsed": false
   },
   "outputs": [
    {
     "name": "stdout",
     "output_type": "stream",
     "text": [
      "234963 subjects in non-S82 with spec-z\n",
      "43762 subjects GZ2 low-z, low-smooth subsample\n"
     ]
    }
   ],
   "source": [
    "gz2_non_nan = gz2_non_stripe82[~np.isnan(gz2_non_stripe82['REDSHIFT'])]\n",
    "print len(gz2_non_nan), \"subjects in non-S82 with spec-z\"\n",
    "\n",
    "gz2_sub_idx = np.where((gz2_non_nan['REDSHIFT']<=0.06) &\n",
    "                       (gz2_non_nan['t01_smooth_or_features_a01_smooth_weighted_fraction']<=0.7) )\n",
    "\n",
    "gz2_subsample = gz2_non_stripe82[gz2_sub_idx]\n",
    "print len(gz2_subsample), \"subjects GZ2 low-z, low-smooth subsample\""
   ]
  },
  {
   "cell_type": "code",
   "execution_count": 79,
   "metadata": {
    "collapsed": false
   },
   "outputs": [
    {
     "name": "stdout",
     "output_type": "stream",
     "text": [
      "875.24\n"
     ]
    }
   ],
   "source": [
    "GZ2_clumpy = 0.02 * len(gz2_subsample)\n",
    "\n",
    "print GZ2_clumpy"
   ]
  },
  {
   "cell_type": "code",
   "execution_count": null,
   "metadata": {
    "collapsed": true
   },
   "outputs": [],
   "source": []
  }
 ],
 "metadata": {
  "kernelspec": {
   "display_name": "Python 2",
   "language": "python",
   "name": "python2"
  },
  "language_info": {
   "codemirror_mode": {
    "name": "ipython",
    "version": 2
   },
   "file_extension": ".py",
   "mimetype": "text/x-python",
   "name": "python",
   "nbconvert_exporter": "python",
   "pygments_lexer": "ipython2",
   "version": "2.7.12"
  }
 },
 "nbformat": 4,
 "nbformat_minor": 0
}
